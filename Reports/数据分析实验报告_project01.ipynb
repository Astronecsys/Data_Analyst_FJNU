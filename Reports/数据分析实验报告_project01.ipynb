{
 "authors": [
  {
   "name": "Jorge Gustavo Rocha"
  },
  {
   "name": "Matilde Rocha"
  }
 ],
 "cells": [
  {
   "cell_type": "markdown",
   "metadata": {},
   "source": [
    "|![福建师范大学](E:\\\\Desktop\\\\学业\\\\第五学期课业\\\\数据分析\\\\Lab\\\\image.png)|\n",
    "|:--:|\n",
    "|课程: 数据分析|\n",
    "|实验名称: |\n",
    "|教师: 林劼|\n",
    "|专业: 软件工程|\n",
    "|班级: 21软工1班|\n",
    "|姓名: --|\n",
    "|学号: --|\n",
    "|实验日期: |\n",
    "\n",
    "# 实验目的\n",
    "\n",
    "# 实验内容\n",
    "\n",
    "# 实验环境\n",
    "\n",
    "* 硬件环境\n",
    "   * 设备名称 Shelter-R7000\n",
    "   * CPU AMD Ryzen 5 5600H 3.30 GHz\n",
    "   * GPU NVIDIA GeForce RTX 3050 Laptop\n",
    "   * RAM 13.9 GB\n",
    "* 系统环境\n",
    "   * OS Windows 10 家庭中文版\n",
    "   * 版本号 21H1\n",
    "* 软件环境\n",
    "   * Anaconda3-2023.07-2-Windows-x86_64\n",
    "   * Jupyter Notebook\n",
    "   * Visual Studio Code 1.82.2\n",
    "\n",
    "# 实验步骤\n"
   ]
  },
  {
   "cell_type": "markdown",
   "metadata": {},
   "source": [
    "\n",
    "（描述实验步骤及中间的结果或现象。在实验中做了什么事情，怎么做的，发生的现象和中间结果）\n",
    "\n"
   ]
  },
  {
   "cell_type": "markdown",
   "metadata": {},
   "source": [
    "# 实验结果与讨论\n",
    "\n",
    "（描述最终得到的结果，并进行分析说明，可能的误差原因）\n",
    "\n",
    "# 总结\n",
    "\n",
    "（说明实验过程中遇到的问题及解决办法；新发现或个人的收获；未解决/需进一步研讨的问题或建议新实验方法等）"
   ]
  }
 ],
 "metadata": {
  "author": "shelter",
  "kernelspec": {
   "display_name": "Python 3 (ipykernel)",
   "language": "python",
   "name": "python3"
  },
  "orig_nbformat": 4
 },
 "nbformat": 4,
 "nbformat_minor": 2
}
