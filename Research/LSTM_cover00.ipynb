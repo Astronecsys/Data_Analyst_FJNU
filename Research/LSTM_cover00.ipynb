{
 "cells": [
  {
   "cell_type": "markdown",
   "metadata": {},
   "source": [
    "【课程08：长短期记忆神经网络（LSTM）预测股票价格】 https://www.bilibili.com/video/BV1U341127k5/?p=4&share_source=copy_web&vd_source=a19b1830f7fa3073663c1b834b2dbb70"
   ]
  }
 ],
 "metadata": {
  "kernelspec": {
   "display_name": "base",
   "language": "python",
   "name": "python3"
  },
  "language_info": {
   "codemirror_mode": {
    "name": "ipython",
    "version": 3
   },
   "file_extension": ".py",
   "mimetype": "text/x-python",
   "name": "python",
   "nbconvert_exporter": "python",
   "pygments_lexer": "ipython3",
   "version": "3.11.5"
  }
 },
 "nbformat": 4,
 "nbformat_minor": 2
}
